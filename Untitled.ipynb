{
 "cells": [
  {
   "cell_type": "markdown",
   "metadata": {},
   "source": [
    "# Table of Contents / Descriptions of Notebook Files"
   ]
  },
  {
   "cell_type": "markdown",
   "metadata": {},
   "source": [
    "### 2.1-a-first-look-at-a-neural-network.ipynb\n",
    "\n",
    "| Pages    | Dataset  | Network  | Hidden Layers |\n",
    "| ------------- |:-------------:| -----|-----:|\n",
    "| 27-30 | mnist | Sequential  | 1 |\n",
    "\n",
    "\n",
    "### 3.4-classifying-movie-reviews.ipynb\n",
    "\n",
    "| Pages    | Dataset  | Network  | Hidden Layers |\n",
    "| ------------- |:-------------:| -----|-----:|\n",
    "| 68-76 | IMDB | Sequential  | 2 |\n",
    "\n",
    "\n",
    "\n",
    "### 3.5-classifying-newswires.ipynb\n",
    "\n",
    "| Pages    | Dataset  | Network  | Hidden Layers |\n",
    "| ------------- |:-------------:| -----|-----:|\n",
    "| 78-84 | Reuters | Sequential  | 1 |\n",
    "\n",
    "\n",
    "\n",
    "3.7-predicting-house-prices.ipynb\n",
    "4.4-overfitting-and-underfitting.ipynb\n",
    "5.1-introduction-to-convnets.ipynb\n",
    "5.2-using-convnets-with-small-datasets.ipynb\n",
    "5.3-using-a-pretrained-convnet.ipynb\n",
    "5.4-visualizing-what-convnets-learn.ipynb\n",
    "6.1-one-hot-encoding-of-words-or-characters.ipynb\n",
    "6.1-using-word-embeddings.ipynb\n",
    "6.2-understanding-recurrent-neural-networks.ipynb\n",
    "6.3-advanced-usage-of-recurrent-neural-networks.ipynb\n",
    "6.4-sequence-processing-with-convnets.ipynb\n",
    "8.1-text-generation-with-lstm.ipynb\n",
    "8.2-deep-dream.ipynb\n",
    "8.3-neural-style-transfer.ipynb\n",
    "8.4-generating-images-with-vaes.ipynb\n",
    "8.5-introduction-to-gans.ipynb\n",
    "\n",
    "\n",
    "\n",
    "\n",
    "    Pages:         \n",
    "    Dataset:       \n",
    "    Network type:  \n",
    "    Hidden layers:  \n",
    "\n",
    "\n",
    "\n",
    "| Pages    | Dataset  | Network  | Hidden Layers |\n",
    "| ------------- |:-------------:| -----|-----:|\n",
    "| - |  | Sequential  | 1 |\n",
    "\n"
   ]
  },
  {
   "cell_type": "code",
   "execution_count": null,
   "metadata": {
    "collapsed": true
   },
   "outputs": [],
   "source": []
  }
 ],
 "metadata": {
  "kernelspec": {
   "display_name": "Python 3",
   "language": "python",
   "name": "python3"
  },
  "language_info": {
   "codemirror_mode": {
    "name": "ipython",
    "version": 3
   },
   "file_extension": ".py",
   "mimetype": "text/x-python",
   "name": "python",
   "nbconvert_exporter": "python",
   "pygments_lexer": "ipython3",
   "version": "3.5.2"
  }
 },
 "nbformat": 4,
 "nbformat_minor": 2
}
